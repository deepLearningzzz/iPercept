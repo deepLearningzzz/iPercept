{
 "cells": [
  {
   "cell_type": "code",
   "execution_count": 20,
   "metadata": {},
   "outputs": [],
   "source": [
    "import numpy as np\n",
    "import h5py\n",
    "import matplotlib.pyplot as ply\n",
    "import pandas as pd\n",
    "np.random.seed(1234)"
   ]
  },
  {
   "cell_type": "code",
   "execution_count": 5,
   "metadata": {},
   "outputs": [
    {
     "data": {
      "text/plain": [
       "['test', 'train', 'validation']"
      ]
     },
     "execution_count": 5,
     "metadata": {},
     "output_type": "execute_result"
    }
   ],
   "source": [
    "hdf_path = \"../datasets/MPIIGaze_kaggle_students.h5\"\n",
    "hdf5 = h5py.File(hdf_path, 'r')\n",
    "list(hdf5.keys())"
   ]
  },
  {
   "cell_type": "code",
   "execution_count": 35,
   "metadata": {},
   "outputs": [
    {
     "data": {
      "text/plain": [
       "array([[-0.08342281, -0.09495791],\n",
       "       [-0.2058087 ,  0.24119657],\n",
       "       [-0.2586083 , -0.13986931],\n",
       "       [-0.04509321, -0.25120515],\n",
       "       [-0.10179196,  0.21178205],\n",
       "       [-0.05298531,  0.22519554],\n",
       "       [-0.18233538,  0.13365987],\n",
       "       [-0.24834982,  0.02138591],\n",
       "       [-0.13324998,  0.22211057],\n",
       "       [-0.08815517, -0.20477784]])"
      ]
     },
     "execution_count": 35,
     "metadata": {},
     "output_type": "execute_result"
    }
   ],
   "source": [
    "hdf5[\"train\"][\"gaze\"][:10]"
   ]
  },
  {
   "cell_type": "code",
   "execution_count": 53,
   "metadata": {},
   "outputs": [],
   "source": [
    "indeces = np.random.choice(range(0, hdf5[\"train\"][\"gaze\"].shape[0]), size=10000, replace=False)\n",
    "indeces = sorted(indeces)\n",
    "gaze_sample = hdf5[\"train\"][\"gaze\"][indeces]"
   ]
  },
  {
   "cell_type": "code",
   "execution_count": 61,
   "metadata": {},
   "outputs": [
    {
     "data": {
      "image/png": "[encoded data removed]",
      "text/plain": [
       "<matplotlib.figure.Figure at 0x7fa3404ff780>"
      ]
     },
     "metadata": {},
     "output_type": "display_data"
    }
   ],
   "source": [
    "ply.hist(gaze_sample, bins=100)\n",
    "ply.show()"
   ]
  },
  {
   "cell_type": "code",
   "execution_count": null,
   "metadata": {
    "collapsed": true
   },
   "outputs": [],
   "source": []
  },
  {
   "cell_type": "code",
   "execution_count": null,
   "metadata": {
    "collapsed": true
   },
   "outputs": [],
   "source": []
  }
 ],
 "metadata": {
  "kernelspec": {
   "display_name": "Tensorflow",
   "language": "python",
   "name": "tensorflow-venv-cpu"
  },
  "language_info": {
   "codemirror_mode": {
    "name": "ipython",
    "version": 3
   },
   "file_extension": ".py",
   "mimetype": "text/x-python",
   "name": "python",
   "nbconvert_exporter": "python",
   "pygments_lexer": "ipython3",
   "version": "3.6.2"
  }
 },
 "nbformat": 4,
 "nbformat_minor": 2
}
