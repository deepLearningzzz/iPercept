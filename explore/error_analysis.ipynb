{
 "cells": [
  {
   "cell_type": "code",
   "execution_count": 1,
   "metadata": {},
   "outputs": [
    {
     "name": "stderr",
     "output_type": "stream",
     "text": [
      "/data/software/anaconda/lib/python3.6/site-packages/h5py/__init__.py:34: FutureWarning: Conversion of the second argument of issubdtype from `float` to `np.floating` is deprecated. In future, it will be treated as `np.float64 == np.dtype(float).type`.\n",
      "  from ._conv import register_converters as _register_converters\n"
     ]
    }
   ],
   "source": [
    "import h5py\n",
    "import pandas as pd\n",
    "import numpy as np\n",
    "import matplotlib.pyplot as ply"
   ]
  },
  {
   "cell_type": "code",
   "execution_count": 8,
   "metadata": {},
   "outputs": [
    {
     "name": "stdout",
     "output_type": "stream",
     "text": [
      "   pitch_true  yaw_true  pitch_pred  yaw_pred  pitch_diff  yaw_diff\n",
      "0   -0.284043 -0.071925   -0.250504 -0.053056    0.033539  0.018869\n",
      "1   -0.242470  0.209679   -0.197631  0.175609    0.044839 -0.034070\n",
      "2   -0.190234 -0.055988   -0.174017  0.047527    0.016218  0.103515\n",
      "3   -0.279683 -0.219014   -0.275358 -0.131513    0.004325  0.087502\n",
      "4   -0.031439  0.008008   -0.105076  0.049710   -0.073637  0.041703\n"
     ]
    }
   ],
   "source": [
    "hdf_path = \"../datasets/MPIIGaze_kaggle_students.h5\"\n",
    "hdf5 = h5py.File(hdf_path, 'r')\n",
    "validation_true = hdf5[\"validation\"][\"gaze\"]\n",
    "\n",
    "validation_pred = pd.read_csv('densenetreg_validation_pred.csv')\n",
    "\n",
    "df = pd.DataFrame(validation_true.value, columns=['pitch_true', 'yaw_true'])\n",
    "df['pitch_pred'] = validation_pred['pitch']\n",
    "df['yaw_pred'] = validation_pred['yaw']\n",
    "\n",
    "df['pitch_diff'] = df['pitch_pred'] - df['pitch_true']\n",
    "df['yaw_diff'] = df['yaw_pred'] - df['yaw_true']\n",
    "\n",
    "\n",
    "print(df.head())"
   ]
  },
  {
   "cell_type": "code",
   "execution_count": 9,
   "metadata": {},
   "outputs": [
    {
     "name": "stdout",
     "output_type": "stream",
     "text": [
      "0.0002162183613741627\n"
     ]
    }
   ],
   "source": [
    "print(np.sqrt(np.sum(np.square(df['pitch_diff'])))/df.size)"
   ]
  },
  {
   "cell_type": "code",
   "execution_count": 19,
   "metadata": {},
   "outputs": [],
   "source": [
    "color1 = [1,0,0,.5]\n",
    "color2 = [0,1,0,.5]"
   ]
  },
  {
   "cell_type": "code",
   "execution_count": 20,
   "metadata": {},
   "outputs": [
    {
     "data": {
      "image/png": "[encoded data removed]",
      "text/plain": [
       "<matplotlib.figure.Figure at 0x7f79cf5adf28>"
      ]
     },
     "metadata": {},
     "output_type": "display_data"
    }
   ],
   "source": [
    "ply.hist(df.pitch_true, fc=color1)\n",
    "ply.hist(df.pitch_pred, fc=color2)\n",
    "ply.show()"
   ]
  },
  {
   "cell_type": "code",
   "execution_count": 21,
   "metadata": {},
   "outputs": [
    {
     "data": {
      "image/png": "[encoded data removed]",
      "text/plain": [
       "<matplotlib.figure.Figure at 0x7f79cf323d30>"
      ]
     },
     "metadata": {},
     "output_type": "display_data"
    }
   ],
   "source": [
    "ply.hist(df.yaw_true, fc=color1)\n",
    "ply.hist(df.yaw_pred, fc=color2)\n",
    "ply.show()"
   ]
  },
  {
   "cell_type": "code",
   "execution_count": 13,
   "metadata": {},
   "outputs": [
    {
     "data": {
      "image/png": "[encoded data removed]",
      "text/plain": [
       "<matplotlib.figure.Figure at 0x7f79cf56ca58>"
      ]
     },
     "metadata": {},
     "output_type": "display_data"
    }
   ],
   "source": [
    "ply.hist(df.pitch_diff)\n",
    "ply.show()"
   ]
  },
  {
   "cell_type": "code",
   "execution_count": 14,
   "metadata": {},
   "outputs": [
    {
     "data": {
      "image/png": "[encoded data removed]",
      "text/plain": [
       "<matplotlib.figure.Figure at 0x7f79cf4e5a20>"
      ]
     },
     "metadata": {},
     "output_type": "display_data"
    }
   ],
   "source": [
    "ply.hist(df.yaw_diff)\n",
    "ply.show()"
   ]
  },
  {
   "cell_type": "code",
   "execution_count": null,
   "metadata": {
    "collapsed": true
   },
   "outputs": [],
   "source": []
  },
  {
   "cell_type": "code",
   "execution_count": null,
   "metadata": {
    "collapsed": true
   },
   "outputs": [],
   "source": []
  },
  {
   "cell_type": "code",
   "execution_count": null,
   "metadata": {
    "collapsed": true
   },
   "outputs": [],
   "source": []
  },
  {
   "cell_type": "code",
   "execution_count": null,
   "metadata": {
    "collapsed": true
   },
   "outputs": [],
   "source": []
  },
  {
   "cell_type": "code",
   "execution_count": null,
   "metadata": {
    "collapsed": true
   },
   "outputs": [],
   "source": []
  }
 ],
 "metadata": {
  "kernelspec": {
   "display_name": "Tensorflow",
   "language": "python",
   "name": "tensorflow-venv-cpu"
  },
  "language_info": {
   "codemirror_mode": {
    "name": "ipython",
    "version": 3
   },
   "file_extension": ".py",
   "mimetype": "text/x-python",
   "name": "python",
   "nbconvert_exporter": "python",
   "pygments_lexer": "ipython3",
   "version": "3.6.2"
  }
 },
 "nbformat": 4,
 "nbformat_minor": 2
}
